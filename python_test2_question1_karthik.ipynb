{
 "cells": [
  {
   "cell_type": "code",
   "execution_count": 12,
   "metadata": {},
   "outputs": [],
   "source": [
    "import pandas as pd\n",
    "import numpy as np\n",
    "from statistics import mode\n",
    "import matplotlib.pyplot as plt\n",
    "import seaborn as sn"
   ]
  },
  {
   "cell_type": "code",
   "execution_count": 15,
   "metadata": {},
   "outputs": [],
   "source": [
    "data = pd.read_csv(\"C:\\\\Users\\\\user\\\\Desktop\\\\camera.csv\")"
   ]
  },
  {
   "cell_type": "code",
   "execution_count": 16,
   "metadata": {},
   "outputs": [
    {
     "name": "stdout",
     "output_type": "stream",
     "text": [
      "<class 'pandas.core.frame.DataFrame'>\n",
      "RangeIndex: 1038 entries, 0 to 1037\n",
      "Data columns (total 13 columns):\n",
      "Model                      1038 non-null object\n",
      "Release date               1038 non-null int64\n",
      "Max resolution             1038 non-null int64\n",
      "Low resolution             1038 non-null int64\n",
      "Effective pixels           1038 non-null int64\n",
      "Zoom wide (W)              1038 non-null int64\n",
      "Zoom tele (T)              1038 non-null int64\n",
      "Normal focus range         1038 non-null int64\n",
      "Macro focus range          1037 non-null float64\n",
      "Storage included           1036 non-null float64\n",
      "Weight (inc. batteries)    1036 non-null float64\n",
      "Dimensions                 1036 non-null float64\n",
      "Price                      1038 non-null int64\n",
      "dtypes: float64(4), int64(8), object(1)\n",
      "memory usage: 105.5+ KB\n",
      "None\n",
      "\n"
     ]
    }
   ],
   "source": [
    "print(data.info())\n",
    "print()"
   ]
  },
  {
   "cell_type": "code",
   "execution_count": 17,
   "metadata": {},
   "outputs": [
    {
     "name": "stdout",
     "output_type": "stream",
     "text": [
      "Model                       object\n",
      "Release date                 int64\n",
      "Max resolution               int64\n",
      "Low resolution               int64\n",
      "Effective pixels             int64\n",
      "Zoom wide (W)                int64\n",
      "Zoom tele (T)                int64\n",
      "Normal focus range           int64\n",
      "Macro focus range          float64\n",
      "Storage included           float64\n",
      "Weight (inc. batteries)    float64\n",
      "Dimensions                 float64\n",
      "Price                        int64\n",
      "dtype: object\n",
      "\n"
     ]
    }
   ],
   "source": [
    "print(data.dtypes)\n",
    "print()"
   ]
  },
  {
   "cell_type": "code",
   "execution_count": 18,
   "metadata": {},
   "outputs": [
    {
     "name": "stdout",
     "output_type": "stream",
     "text": [
      "                     Model  Release date  Price\n",
      "0         Agfa ePhoto 1280          1997    179\n",
      "1         Agfa ePhoto 1680          1998    179\n",
      "2         Agfa ePhoto CL18          2000    179\n",
      "3         Agfa ePhoto CL30          1999    269\n",
      "4   Agfa ePhoto CL30 Clik!          1999   1299\n",
      "5         Agfa ePhoto CL45          2001    179\n",
      "6         Agfa ePhoto CL50          1999    179\n",
      "7      Canon PowerShot 350          1997    149\n",
      "8      Canon PowerShot 600          1996    139\n",
      "9      Canon PowerShot A10          2001    139\n",
      "10    Canon PowerShot A100          2002    139\n",
      "11     Canon PowerShot A20          2001    139\n",
      "12    Canon PowerShot A200          2002    139\n",
      "13     Canon PowerShot A30          2002    139\n",
      "14    Canon PowerShot A300          2003    139\n",
      "15    Canon PowerShot A310          2004    139\n",
      "16     Canon PowerShot A40          2002    139\n",
      "17    Canon PowerShot A400          2004    139\n",
      "18    Canon PowerShot A410          2005    139\n",
      "19    Canon PowerShot A420          2006    139\n",
      "20    Canon PowerShot A430          2006    139\n",
      "21    Canon PowerShot A450          2007    139\n",
      "22    Canon PowerShot A460          2007    139\n",
      "23      Canon PowerShot A5          1998    149\n",
      "24     Canon PowerShot A50          1999    149\n",
      "\n"
     ]
    }
   ],
   "source": [
    "print(data[['Model','Release date','Price']].head(25))\n",
    "print()"
   ]
  },
  {
   "cell_type": "code",
   "execution_count": 19,
   "metadata": {},
   "outputs": [
    {
     "name": "stdout",
     "output_type": "stream",
     "text": [
      "       Release date  Max resolution  Low resolution  Effective pixels  \\\n",
      "count   1038.000000     1038.000000     1038.000000       1038.000000   \n",
      "mean    2003.590559     2474.672447     1773.936416          4.596339   \n",
      "std        2.724755      759.513608      830.897955          2.844044   \n",
      "min     1994.000000        0.000000        0.000000          0.000000   \n",
      "25%     2002.000000     2048.000000     1120.000000          3.000000   \n",
      "50%     2004.000000     2560.000000     2048.000000          4.000000   \n",
      "75%     2006.000000     3072.000000     2560.000000          7.000000   \n",
      "max     2007.000000     5616.000000     4992.000000         21.000000   \n",
      "\n",
      "       Zoom wide (W)  Zoom tele (T)  Normal focus range  Macro focus range  \\\n",
      "count    1038.000000    1038.000000         1038.000000        1037.000000   \n",
      "mean       32.963391     121.525048           44.145472           7.787850   \n",
      "std        10.333149      93.455422           24.141959           8.100081   \n",
      "min         0.000000       0.000000            0.000000           0.000000   \n",
      "25%        35.000000      96.000000           30.000000           3.000000   \n",
      "50%        36.000000     108.000000           50.000000           6.000000   \n",
      "75%        38.000000     117.000000           60.000000          10.000000   \n",
      "max        52.000000     518.000000          120.000000          85.000000   \n",
      "\n",
      "       Storage included  Weight (inc. batteries)   Dimensions        Price  \n",
      "count       1036.000000              1036.000000  1036.000000  1038.000000  \n",
      "mean          17.447876               319.265444   105.363417   457.384393  \n",
      "std           27.440655               260.410137    24.262761   760.452918  \n",
      "min            0.000000                 0.000000     0.000000    14.000000  \n",
      "25%            8.000000               180.000000    92.000000   149.000000  \n",
      "50%           16.000000               226.000000   101.000000   199.000000  \n",
      "75%           20.000000               350.000000   115.000000   399.000000  \n",
      "max          450.000000              1860.000000   240.000000  7999.000000  \n",
      "\n"
     ]
    }
   ],
   "source": [
    "print(data.describe())\n",
    "print()"
   ]
  },
  {
   "cell_type": "code",
   "execution_count": 20,
   "metadata": {},
   "outputs": [
    {
     "name": "stdout",
     "output_type": "stream",
     "text": [
      "Summary Statistics for Price : \n",
      "Mean : 457.38439306358384\n",
      "Median : 199.0\n",
      "Mode : 149\n"
     ]
    }
   ],
   "source": [
    "print('Summary Statistics for Price : ')\n",
    "print('Mean :',np.mean(data['Price']))\n",
    "print('Median :',np.median(data['Price']))\n",
    "print('Mode :',mode(data['Price']))"
   ]
  },
  {
   "cell_type": "code",
   "execution_count": 21,
   "metadata": {},
   "outputs": [
    {
     "data": {
      "text/plain": [
       "Text(0.5,1,'Year v/s Price')"
      ]
     },
     "execution_count": 21,
     "metadata": {},
     "output_type": "execute_result"
    },
    {
     "data": {
      "image/png": "[encoded data removed]",
      "text/plain": [
       "<matplotlib.figure.Figure at 0x94004a8>"
      ]
     },
     "metadata": {},
     "output_type": "display_data"
    }
   ],
   "source": [
    "price_1k = data[data['Price']>1000]\n",
    "plt.bar(price_1k['Release date'],price_1k['Price'])\n",
    "plt.xlabel('Release Date')\n",
    "plt.ylabel('Price')\n",
    "plt.title('Year v/s Price')"
   ]
  },
  {
   "cell_type": "code",
   "execution_count": 23,
   "metadata": {},
   "outputs": [
    {
     "data": {
      "text/plain": [
       "<matplotlib.axes._subplots.AxesSubplot at 0xba84e80>"
      ]
     },
     "execution_count": 23,
     "metadata": {},
     "output_type": "execute_result"
    },
    {
     "data": {
      "image/png": "[encoded data removed]",
      "text/plain": [
       "<matplotlib.figure.Figure at 0xba65128>"
      ]
     },
     "metadata": {},
     "output_type": "display_data"
    }
   ],
   "source": [
    "corr = data.corr()\n",
    "sn.heatmap(corr, xticklabels=corr.columns,yticklabels=corr.columns)"
   ]
  },
  {
   "cell_type": "code",
   "execution_count": 24,
   "metadata": {},
   "outputs": [
    {
     "data": {
      "text/plain": [
       "Release date              -0.023249\n",
       "Max resolution             0.183202\n",
       "Low resolution             0.154179\n",
       "Effective pixels           0.189149\n",
       "Zoom wide (W)             -0.459236\n",
       "Zoom tele (T)             -0.189377\n",
       "Normal focus range        -0.273974\n",
       "Macro focus range         -0.127660\n",
       "Storage included          -0.103046\n",
       "Weight (inc. batteries)    0.464760\n",
       "Dimensions                 0.264256\n",
       "Price                      1.000000\n",
       "Name: Price, dtype: float64"
      ]
     },
     "execution_count": 24,
     "metadata": {},
     "output_type": "execute_result"
    }
   ],
   "source": [
    "data.corr()['Price']"
   ]
  }
 ],
 "metadata": {
  "kernelspec": {
   "display_name": "Python 3",
   "language": "python",
   "name": "python3"
  },
  "language_info": {
   "codemirror_mode": {
    "name": "ipython",
    "version": 3
   },
   "file_extension": ".py",
   "mimetype": "text/x-python",
   "name": "python",
   "nbconvert_exporter": "python",
   "pygments_lexer": "ipython3",
   "version": "3.6.4"
  }
 },
 "nbformat": 4,
 "nbformat_minor": 2
}
